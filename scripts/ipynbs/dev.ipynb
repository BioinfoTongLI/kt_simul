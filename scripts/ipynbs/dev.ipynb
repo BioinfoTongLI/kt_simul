{
 "metadata": {
  "name": "dev"
 },
 "nbformat": 3,
 "nbformat_minor": 0,
 "worksheets": [
  {
   "cells": [
    {
     "cell_type": "code",
     "collapsed": false,
     "input": [
      "%load_ext autoreload\n",
      "%autoreload 2\n",
      "\n",
      "import sys\n",
      "import os\n",
      "import glob\n",
      "\n",
      "import pandas as pd\n",
      "\n",
      "from kt_simul.io.xml_handler import ParamTree\n",
      "from kt_simul.core.simul_spindle import Metaphase\n",
      "from kt_simul.io.simuio import SimuIO\n",
      "from kt_simul.utils.progress import pprogress\n",
      "from kt_simul.core import parameters\n",
      "\n",
      "PARAMFILE = parameters.PARAMFILE\n",
      "MEASUREFILE = parameters.MEASUREFILE"
     ],
     "language": "python",
     "metadata": {},
     "outputs": [],
     "prompt_number": 1
    },
    {
     "cell_type": "code",
     "collapsed": false,
     "input": [
      "paramtree = ParamTree(PARAMFILE)\n",
      "measuretree = ParamTree(MEASUREFILE, adimentionalized=False)\n",
      "fname = \"../test.h5\"\n",
      "\n",
      "#meta = Metaphase(verbose=True, paramtree=paramtree, measuretree=measuretree, initial_plug='random')\n",
      "#meta.simul()\n",
      "#SimuIO(meta).save(fname, metadata=None)"
     ],
     "language": "python",
     "metadata": {},
     "outputs": [],
     "prompt_number": 2
    },
    {
     "cell_type": "code",
     "collapsed": false,
     "input": [
      "meta = SimuIO().read(fname)"
     ],
     "language": "python",
     "metadata": {},
     "outputs": [],
     "prompt_number": 3
    }
   ],
   "metadata": {}
  }
 ]
}